{
 "cells": [
  {
   "cell_type": "code",
   "execution_count": null,
   "metadata": {},
   "outputs": [],
   "source": [
    "\n",
    "import matplotlib as plt\n",
    "import json\n",
    "import pandas as pd\n",
    "from collections import Counter"
   ]
  },
  {
   "cell_type": "code",
   "execution_count": null,
   "metadata": {},
   "outputs": [],
   "source": [
    "import requests\n",
    "import json\n",
    "\n",
    "# 定義 Elasticsearch 的 URL 和索引\n",
    "url = \"http://192.168.31.130:32327/game_data_aaa/_search\"\n",
    "\n",
    "# 查詢請求的主體\n",
    "query = {\n",
    "  \"size\" : 752,\n",
    "  \"query\": {\n",
    "    \"match_all\": {}\n",
    "  }\n",
    "}\n",
    "\n",
    "# 發送請求到 Elasticsearch\n",
    "response = requests.get(url, headers={\"Content-Type\": \"application/json\"}, data=json.dumps(query))\n",
    "\n",
    "# 檢查回應狀態碼並顯示結果\n",
    "if response.status_code == 200:\n",
    "    result = response.json()\n",
    "    \n",
    "     # 以漂亮格式顯示 JSON 結果\n",
    "else:\n",
    "    print(f\"Error: {response.status_code}\")\n"
   ]
  },
  {
   "cell_type": "code",
   "execution_count": null,
   "metadata": {},
   "outputs": [],
   "source": [
    "def tags_count_by_year(game_rawdata, target):\n",
    "    games_data = []\n",
    "    for i in range(len(game_rawdata)):\n",
    "        game_obj = game_rawdata[i][\"_source\"]\n",
    "        tags = game_obj[target]\n",
    "        if game_obj[\"releaseDate\"]:\n",
    "            year = pd.to_datetime(game_obj[\"releaseDate\"], unit='ms').year\n",
    "        for tag in tags:\n",
    "            games_data.append({'year': year, target: tag})\n",
    "    df = pd.DataFrame(games_data)\n",
    "    df = df.groupby(['year', target]).size().reset_index(name='count')\n",
    "    pivot_df = df.pivot_table(index='year', columns=target, values='count', fill_value=0)\n",
    "    return pivot_df"
   ]
  },
  {
   "cell_type": "code",
   "execution_count": null,
   "metadata": {},
   "outputs": [],
   "source": [
    "\n",
    "game_rawdata =result[\"hits\"][\"hits\"] \n",
    "tags_count_by_year(game_rawdata, \"tags\")\n",
    "df=tags_count_by_year(game_rawdata, \"genres\")\n",
    "tags_count_by_year(game_rawdata, \"features\")\n",
    "   "
   ]
  },
  {
   "cell_type": "code",
   "execution_count": null,
   "metadata": {},
   "outputs": [],
   "source": [
    "import matplotlib.pyplot as plt\n",
    "\n",
    "def plot_tag_rank(target, year):\n",
    "    df = tags_count_by_year(game_rawdata, target)\n",
    "    year_series = df.loc[year].sort_values()\n",
    "    # 繪製水平長條圖\n",
    "    plt.figure(figsize=(10, 6))\n",
    "    plt.barh(year_series.index, year_series.values, color='skyblue')\n",
    "\n",
    "    # 添加標題和標籤\n",
    "    plt.title(f'{target.capitalize()} Distribution in {year}', fontsize=16)\n",
    "    plt.xlabel('Number of Games', fontsize=12)\n",
    "    plt.ylabel(f'{target.capitalize()}', fontsize=12)\n",
    "\n",
    "    # 顯示圖表\n",
    "    plt.tight_layout()\n",
    "    plt.show()\n",
    "    return df\n",
    "    "
   ]
  },
  {
   "cell_type": "code",
   "execution_count": null,
   "metadata": {},
   "outputs": [],
   "source": [
    "import matplotlib.pyplot as plt\n",
    "\n",
    "# 創建一個畫布和子圖的框架，並設置子圖的數量\n",
    "def create_plot_frame(num_plots):\n",
    "    fig, axes = plt.subplots(1, num_plots, figsize=(num_plots * 5, 6))  # 1 行 num_plots 列的子圖\n",
    "    return fig, axes\n",
    "\n",
    "# 繪製一張子圖的函數，依次放入不同的子圖框架中\n",
    "def plot_single_tag_rank(ax, target, year):\n",
    "    df = tags_count_by_year(game_rawdata, target)\n",
    "    year_series = df.loc[year].sort_values()\n",
    "\n",
    "    # 繪製水平長條圖到指定的子圖軸 ax\n",
    "    ax.barh(year_series.index, year_series.values, color='skyblue')\n",
    "\n",
    "    # 添加子圖的標題和標籤\n",
    "    ax.set_title(f'{target.capitalize()} in {year}', fontsize=16)\n",
    "    ax.set_xlabel('Number of Games', fontsize=12)\n",
    "    ax.set_ylabel(f'{target.capitalize()}', fontsize=12)\n",
    "\n",
    "# 設置畫布，假設我們想畫5個年份的圖\n",
    "fig, axes = create_plot_frame(5)\n",
    "\n",
    "# 分別呼叫函數來繪製每一個子圖\n",
    "plot_single_tag_rank(axes[0], \"genres\", 2010)\n",
    "plot_single_tag_rank(axes[1], \"genres\", 2011)\n",
    "plot_single_tag_rank(axes[2], \"genres\", 2012)\n",
    "plot_single_tag_rank(axes[3], \"genres\", 2013)\n",
    "plot_single_tag_rank(axes[4], \"genres\", 2014)"
   ]
  }
 ],
 "metadata": {
  "kernelspec": {
   "display_name": "web_scraping",
   "language": "python",
   "name": "python3"
  },
  "language_info": {
   "name": "python",
   "version": "3.10.14"
  }
 },
 "nbformat": 4,
 "nbformat_minor": 2
}
