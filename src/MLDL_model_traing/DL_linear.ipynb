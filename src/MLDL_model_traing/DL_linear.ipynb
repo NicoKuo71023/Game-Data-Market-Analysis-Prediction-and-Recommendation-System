{
 "cells": [
  {
   "cell_type": "code",
   "execution_count": null,
   "metadata": {
    "vscode": {
     "languageId": "plaintext"
    }
   },
   "outputs": [],
   "source": [
    "from torch.nn import Sequential\n",
    "from torch.nn import Linear, Conv2d, MaxPool2d, Flatten, Dropout, Softmax, ReLU\n",
    "from torch.utils.data import TensorDataset, DataLoader\n",
    "from torch.nn import CrossEntropyLoss\n",
    "from torch.optim import SGD\n",
    "\n",
    "import numpy as np\n",
    "import matplotlib.pyplot as plt\n",
    "import seaborn as sns\n",
    "\n",
    "import pandas as pd\n",
    "\n",
    "from sklearn.metrics import classification_report\n",
    "import json\n",
    "import pickle\n",
    "\n",
    "import os"
   ]
  },
  {
   "cell_type": "code",
   "execution_count": null,
   "metadata": {
    "vscode": {
     "languageId": "plaintext"
    }
   },
   "outputs": [],
   "source": [
    "class SimpleTrainer:\n",
    "    \"\"\"A model trainer for classification models.\"\"\"\n",
    "\n",
    "    def __init__(self, model, loss_fn, optimizer):\n",
    "        self.model = self.to_gpu(model)\n",
    "        self.loss_fn = loss_fn\n",
    "        self.optimizer = optimizer\n",
    "\n",
    "    def to_gpu(self, obj, device=\"cuda:0\"):\n",
    "        \"\"\"將張量或模型送至GPU。\"\"\"\n",
    "        return obj.to(device)\n",
    "\n",
    "    def train_step(self, dataloader):\n",
    "        \"\"\"訓練一個epoch。\"\"\"\n",
    "        self.model.train()  # 設定成訓練模式 (有些網路層訓練時和推理時有不同的行為, 例如Dropout)\n",
    "        for iteration, (batch_x, batch_y) in enumerate(dataloader):\n",
    "            batch_x = self.to_gpu(batch_x)\n",
    "            batch_y = self.to_gpu(batch_y)\n",
    "\n",
    "            self.optimizer.zero_grad()  # 請優化器清空模型內所有權重的梯度\n",
    "\n",
    "            pred_y = self.model(batch_x)  # 正向傳遞得到模型預測\n",
    "\n",
    "            loss_value = self.loss_fn(\n",
    "                pred_y, batch_y\n",
    "            )  # 將正確(Ground Truth)和預測(Prediction) 標籤做比較，得到誤差\n",
    "            loss_value.backward()  # 倒傳遞得到誤差\n",
    "\n",
    "            self.optimizer.step()  # 讓優化器更新模型權重乙次\n",
    "\n",
    "        return self.test_step(dataloader, mode=\"train\")\n",
    "\n",
    "    def test_step(self, dataloader, mode=\"test\"):\n",
    "        \"\"\"結束一個epoch的訓練後，測試模型表現。\"\"\"\n",
    "        self.model.eval()  # 設定成推理模式\n",
    "\n",
    "        size = len(dataloader.dataset)\n",
    "        test_loss, correct = 0, 0\n",
    "\n",
    "        with torch.no_grad():\n",
    "            for iteration, (batch_x, batch_y) in enumerate(dataloader):\n",
    "                batch_x = self.to_gpu(batch_x)\n",
    "                batch_y = self.to_gpu(batch_y)\n",
    "\n",
    "                pred_y = self.model(batch_x)\n",
    "\n",
    "                test_loss += self.loss_fn(pred_y, batch_y).item()\n",
    "                correct += (\n",
    "                    (pred_y.argmax(axis=1) == batch_y).type(torch.float).sum().item()\n",
    "                )\n",
    "\n",
    "        test_loss /= size\n",
    "        correct /= size\n",
    "\n",
    "        print(\n",
    "            \"{}_loss={:.4f}, {}_accuracy={:.2f}\".format(mode, test_loss, mode, correct)\n",
    "        )\n",
    "        return correct\n",
    "\n",
    "    def fit(self, dataloader_train, dataloader_test, num_epochs):\n",
    "        # 開始訓練\n",
    "        metrics = {\"train_acc\": [], \"test_acc\": []}\n",
    "        for epoch in range(num_epochs):\n",
    "            print(epoch)\n",
    "            train_acc = self.train_step(dataloader_train)\n",
    "            test_acc = self.test_step(dataloader_test)\n",
    "\n",
    "            metrics[\"train_acc\"].append(train_acc)\n",
    "            metrics[\"test_acc\"].append(test_acc)\n",
    "\n",
    "        return metrics\n",
    "\n",
    "    def __call__(self, x):\n",
    "        self.model.eval()  # 啟動推理 (Inference) 模式\n",
    "        return self.model(x)  # 執行推理"
   ]
  }
 ],
 "metadata": {
  "language_info": {
   "name": "python"
  }
 },
 "nbformat": 4,
 "nbformat_minor": 2
}
